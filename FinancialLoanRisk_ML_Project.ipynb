{
 "cells": [
  {
   "cell_type": "code",
   "execution_count": null,
   "id": "55c04f2a-6285-482f-ad5b-e487d31320ce",
   "metadata": {},
   "outputs": [],
   "source": [
    "# ========================================================\n",
    "# Project: Credit Risk and Loan Approval Analysis  (Advanced Models)\n",
    "# Author: Karri Vamsi\n",
    "# Date: July 27, 2025\n",
    "# Description: Predict Loan Approval and Credit Risk using ANN (Deep learning).\n",
    "# Dataset: financial-risk-for-loan-approval.csv from Kaggle\n",
    "# ========================================================"
   ]
  },
  {
   "cell_type": "code",
   "execution_count": 15,
   "id": "e6917a0e-6ae6-4876-87ee-c3bc765e67af",
   "metadata": {},
   "outputs": [],
   "source": [
    "# =====================\n",
    "# 1. Import Libraries\n",
    "# =====================\n",
    "\n",
    "import pandas as pd\n",
    "import numpy as np\n",
    "import matplotlib.pyplot as plt\n",
    "from sklearn.model_selection import train_test_split\n",
    "from sklearn.preprocessing import OneHotEncoder, MinMaxScaler\n",
    "from sklearn.compose import ColumnTransformer\n",
    "from sklearn.pipeline import Pipeline\n",
    "from sklearn.metrics import classification_report,confusion_matrix,ConfusionMatrixDisplay\n",
    "from tensorflow import keras\n",
    "from tensorflow.keras.callbacks import EarlyStopping\n"
   ]
  },
  {
   "cell_type": "code",
   "execution_count": 2,
   "id": "e9d923ca-041d-44db-bd15-94ab08b97156",
   "metadata": {},
   "outputs": [],
   "source": [
    "# =====================\n",
    "# 2. Load Dataset\n",
    "# =====================\n",
    "\n",
    "df = pd.read_csv('/Users/dumsi/Downloads/Loan.csv')"
   ]
  },
  {
   "cell_type": "code",
   "execution_count": 3,
   "id": "95589ad8-9052-45f4-9a50-bc6363515dd3",
   "metadata": {},
   "outputs": [],
   "source": [
    "# =====================\n",
    "# 3. Train-Test Split (Stratified on Classification Label)\n",
    "# =====================\n",
    "\n",
    "train_df, test_df = train_test_split(df, test_size=0.3, stratify=df['LoanApproved'],random_state=25)"
   ]
  },
  {
   "cell_type": "code",
   "execution_count": 4,
   "id": "d6237f9c-f29e-4c80-964c-3be896771c32",
   "metadata": {},
   "outputs": [],
   "source": [
    "# =====================\n",
    "# 4. Drop Irrelevant Columns\n",
    "# =====================\n",
    "\n",
    "train_df = train_df.drop(columns=['ApplicationDate'])\n",
    "test_df = test_df.drop(columns=['ApplicationDate'])"
   ]
  },
  {
   "cell_type": "code",
   "execution_count": 5,
   "id": "55ae75c9-adca-4e31-b743-e5cfd6db8ac4",
   "metadata": {},
   "outputs": [],
   "source": [
    "# =====================\n",
    "# 5. Split Features and Targets\n",
    "# =====================\n",
    "\n",
    "X_train_raw = train_df.drop(columns=['LoanApproved', 'RiskScore'])\n",
    "y_train = {\n",
    "    'Loan_approved': train_df['LoanApproved'],\n",
    "    'Risk_score': train_df['RiskScore']\n",
    "}\n",
    "\n",
    "X_test_raw = test_df.drop(columns=['LoanApproved', 'RiskScore'])\n",
    "y_test = {\n",
    "    'Loan_approved': test_df['LoanApproved'],\n",
    "    'Risk_score': test_df['RiskScore']\n",
    "}\n"
   ]
  },
  {
   "cell_type": "code",
   "execution_count": 6,
   "id": "7c827c8d-6efb-4bee-8177-2e9d148f4538",
   "metadata": {},
   "outputs": [],
   "source": [
    "# =====================\n",
    "# 6. Preprocessing Pipeline\n",
    "# =====================\n",
    "\n",
    "# Define categorical columns\n",
    "categorical_cols = ['EmploymentStatus', 'EducationLevel', 'MaritalStatus', 'HomeOwnershipStatus', 'LoanPurpose']\n",
    "\n",
    "# Build ColumnTransformer for encoding + scaling\n",
    "preprocessor = ColumnTransformer([\n",
    "    ('onehot', OneHotEncoder(), categorical_cols)\n",
    "], remainder='passthrough')\n",
    "\n",
    "# Combine with MinMaxScaler in a pipeline\n",
    "pipeline = Pipeline([\n",
    "    ('transform', preprocessor),\n",
    "    ('scale', MinMaxScaler())\n",
    "])\n",
    "\n",
    "# Fit-transform training data\n",
    "X_train_array = pipeline.fit_transform(X_train_raw)\n",
    "\n",
    "# Get one-hot encoded column names\n",
    "ohe_features = preprocessor.named_transformers_['onehot'].get_feature_names_out(categorical_cols).tolist()\n",
    "\n",
    "# Include numeric columns\n",
    "numeric_cols = [col for col in X_train_raw.columns if col not in categorical_cols]\n",
    "final_columns = ohe_features + numeric_cols\n",
    "\n",
    "# Convert transformed arrays to DataFrames\n",
    "X_train = pd.DataFrame(X_train_array, columns=final_columns, index=X_train_raw.index)\n",
    "\n",
    "# Transform test data using the same pipeline\n",
    "X_test_array = pipeline.transform(X_test_raw)\n",
    "X_test = pd.DataFrame(X_test_array, columns=final_columns, index=X_test_raw.index)"
   ]
  },
  {
   "cell_type": "code",
   "execution_count": 7,
   "id": "fd4c06a0-3351-4596-b986-6480f0644666",
   "metadata": {},
   "outputs": [
    {
     "name": "stderr",
     "output_type": "stream",
     "text": [
      "2025-07-27 07:39:42.479318: I metal_plugin/src/device/metal_device.cc:1154] Metal device set to: Apple M1\n",
      "2025-07-27 07:39:42.479351: I metal_plugin/src/device/metal_device.cc:296] systemMemory: 8.00 GB\n",
      "2025-07-27 07:39:42.479358: I metal_plugin/src/device/metal_device.cc:313] maxCacheSize: 2.67 GB\n",
      "2025-07-27 07:39:42.479391: I tensorflow/core/common_runtime/pluggable_device/pluggable_device_factory.cc:305] Could not identify NUMA node of platform GPU ID 0, defaulting to 0. Your kernel may not have been built with NUMA support.\n",
      "2025-07-27 07:39:42.479401: I tensorflow/core/common_runtime/pluggable_device/pluggable_device_factory.cc:271] Created TensorFlow device (/job:localhost/replica:0/task:0/device:GPU:0 with 0 MB memory) -> physical PluggableDevice (device: 0, name: METAL, pci bus id: <undefined>)\n"
     ]
    }
   ],
   "source": [
    "# =====================\n",
    "# 7. Define Neural Network (Functional API)\n",
    "# =====================\n",
    "\n",
    "input_layer = keras.layers.Input(shape=(X_train.shape[1],))\n",
    "x = keras.layers.BatchNormalization()(input_layer)\n",
    "x = keras.layers.Dense(200, activation='relu', kernel_initializer='he_uniform')(x)\n",
    "x = keras.layers.BatchNormalization()(x)\n",
    "x = keras.layers.Dense(170, activation='relu', kernel_initializer='he_uniform')(x)\n",
    "x = keras.layers.BatchNormalization()(x)\n",
    "\n",
    "# Output 1: Classification\n",
    "output_class = keras.layers.Dense(1, activation='sigmoid', name='Loan_approved')(x)\n",
    "\n",
    "# Output 2: Regression\n",
    "output_score = keras.layers.Dense(1, activation='relu', name='Risk_score')(x)\n",
    "\n",
    "# Build model\n",
    "model = keras.Model(inputs=input_layer, outputs=[output_class, output_score])"
   ]
  },
  {
   "cell_type": "code",
   "execution_count": 8,
   "id": "d6473021-ce6e-46eb-aea6-9f8b031fb78f",
   "metadata": {},
   "outputs": [],
   "source": [
    "# =====================\n",
    "# 8. Compile Model\n",
    "# =====================\n",
    "\n",
    "model.compile(\n",
    "    loss={'Loan_approved': 'binary_crossentropy', 'Risk_score': 'mean_absolute_error'},\n",
    "    optimizer='adam',\n",
    "    metrics={'Loan_approved': 'accuracy', 'Risk_score': 'mae'}\n",
    ")"
   ]
  },
  {
   "cell_type": "code",
   "execution_count": 9,
   "id": "8fba453f-0273-4ba6-a5ec-4787d7a6bb5f",
   "metadata": {},
   "outputs": [
    {
     "name": "stdout",
     "output_type": "stream",
     "text": [
      "Epoch 1/30\n"
     ]
    },
    {
     "name": "stderr",
     "output_type": "stream",
     "text": [
      "2025-07-27 07:39:43.674304: I tensorflow/core/grappler/optimizers/custom_graph_optimizer_registry.cc:117] Plugin optimizer for device_type GPU is enabled.\n"
     ]
    },
    {
     "name": "stdout",
     "output_type": "stream",
     "text": [
      "\u001b[1m307/307\u001b[0m \u001b[32m━━━━━━━━━━━━━━━━━━━━\u001b[0m\u001b[37m\u001b[0m \u001b[1m31s\u001b[0m 53ms/step - Loan_approved_accuracy: 0.8022 - Loan_approved_loss: 0.4198 - Risk_score_loss: 42.7341 - Risk_score_mae: 42.7343 - loss: 43.1541 - val_Loan_approved_accuracy: 0.8564 - val_Loan_approved_loss: 0.3155 - val_Risk_score_loss: 22.4663 - val_Risk_score_mae: 22.5092 - val_loss: 22.8237\n",
      "Epoch 2/30\n",
      "\u001b[1m307/307\u001b[0m \u001b[32m━━━━━━━━━━━━━━━━━━━━\u001b[0m\u001b[37m\u001b[0m \u001b[1m10s\u001b[0m 33ms/step - Loan_approved_accuracy: 0.8870 - Loan_approved_loss: 0.2650 - Risk_score_loss: 15.0996 - Risk_score_mae: 15.0997 - loss: 15.3646 - val_Loan_approved_accuracy: 0.8662 - val_Loan_approved_loss: 0.2765 - val_Risk_score_loss: 4.5072 - val_Risk_score_mae: 4.5004 - val_loss: 4.7749\n",
      "Epoch 3/30\n",
      "\u001b[1m307/307\u001b[0m \u001b[32m━━━━━━━━━━━━━━━━━━━━\u001b[0m\u001b[37m\u001b[0m \u001b[1m10s\u001b[0m 32ms/step - Loan_approved_accuracy: 0.9031 - Loan_approved_loss: 0.2269 - Risk_score_loss: 3.4557 - Risk_score_mae: 3.4557 - loss: 3.6826 - val_Loan_approved_accuracy: 0.9169 - val_Loan_approved_loss: 0.1778 - val_Risk_score_loss: 5.1655 - val_Risk_score_mae: 5.1529 - val_loss: 5.3301\n",
      "Epoch 4/30\n",
      "\u001b[1m307/307\u001b[0m \u001b[32m━━━━━━━━━━━━━━━━━━━━\u001b[0m\u001b[37m\u001b[0m \u001b[1m10s\u001b[0m 32ms/step - Loan_approved_accuracy: 0.9123 - Loan_approved_loss: 0.1954 - Risk_score_loss: 3.4897 - Risk_score_mae: 3.4897 - loss: 3.6850 - val_Loan_approved_accuracy: 0.9198 - val_Loan_approved_loss: 0.1727 - val_Risk_score_loss: 9.2490 - val_Risk_score_mae: 9.2242 - val_loss: 9.3957\n",
      "Epoch 5/30\n",
      "\u001b[1m307/307\u001b[0m \u001b[32m━━━━━━━━━━━━━━━━━━━━\u001b[0m\u001b[37m\u001b[0m \u001b[1m10s\u001b[0m 33ms/step - Loan_approved_accuracy: 0.9167 - Loan_approved_loss: 0.1938 - Risk_score_loss: 3.6211 - Risk_score_mae: 3.6212 - loss: 3.8149 - val_Loan_approved_accuracy: 0.9281 - val_Loan_approved_loss: 0.1696 - val_Risk_score_loss: 3.7548 - val_Risk_score_mae: 3.7564 - val_loss: 3.9257\n",
      "Epoch 6/30\n",
      "\u001b[1m307/307\u001b[0m \u001b[32m━━━━━━━━━━━━━━━━━━━━\u001b[0m\u001b[37m\u001b[0m \u001b[1m10s\u001b[0m 33ms/step - Loan_approved_accuracy: 0.9162 - Loan_approved_loss: 0.1962 - Risk_score_loss: 3.5108 - Risk_score_mae: 3.5107 - loss: 3.7069 - val_Loan_approved_accuracy: 0.9312 - val_Loan_approved_loss: 0.1734 - val_Risk_score_loss: 3.5517 - val_Risk_score_mae: 3.5554 - val_loss: 3.7283\n",
      "Epoch 7/30\n",
      "\u001b[1m307/307\u001b[0m \u001b[32m━━━━━━━━━━━━━━━━━━━━\u001b[0m\u001b[37m\u001b[0m \u001b[1m10s\u001b[0m 33ms/step - Loan_approved_accuracy: 0.9094 - Loan_approved_loss: 0.2051 - Risk_score_loss: 3.4128 - Risk_score_mae: 3.4127 - loss: 3.6178 - val_Loan_approved_accuracy: 0.9336 - val_Loan_approved_loss: 0.1699 - val_Risk_score_loss: 2.9541 - val_Risk_score_mae: 2.9526 - val_loss: 3.1221\n",
      "Epoch 8/30\n",
      "\u001b[1m307/307\u001b[0m \u001b[32m━━━━━━━━━━━━━━━━━━━━\u001b[0m\u001b[37m\u001b[0m \u001b[1m10s\u001b[0m 33ms/step - Loan_approved_accuracy: 0.9079 - Loan_approved_loss: 0.2040 - Risk_score_loss: 3.2889 - Risk_score_mae: 3.2889 - loss: 3.4929 - val_Loan_approved_accuracy: 0.9321 - val_Loan_approved_loss: 0.1654 - val_Risk_score_loss: 2.9568 - val_Risk_score_mae: 2.9554 - val_loss: 3.1201\n",
      "Epoch 9/30\n",
      "\u001b[1m307/307\u001b[0m \u001b[32m━━━━━━━━━━━━━━━━━━━━\u001b[0m\u001b[37m\u001b[0m \u001b[1m10s\u001b[0m 33ms/step - Loan_approved_accuracy: 0.9179 - Loan_approved_loss: 0.1963 - Risk_score_loss: 3.1851 - Risk_score_mae: 3.1851 - loss: 3.3813 - val_Loan_approved_accuracy: 0.9345 - val_Loan_approved_loss: 0.1601 - val_Risk_score_loss: 3.0111 - val_Risk_score_mae: 3.0099 - val_loss: 3.1694\n",
      "Epoch 10/30\n",
      "\u001b[1m307/307\u001b[0m \u001b[32m━━━━━━━━━━━━━━━━━━━━\u001b[0m\u001b[37m\u001b[0m \u001b[1m10s\u001b[0m 33ms/step - Loan_approved_accuracy: 0.9053 - Loan_approved_loss: 0.2095 - Risk_score_loss: 3.2273 - Risk_score_mae: 3.2273 - loss: 3.4369 - val_Loan_approved_accuracy: 0.9217 - val_Loan_approved_loss: 0.1658 - val_Risk_score_loss: 3.1020 - val_Risk_score_mae: 3.0996 - val_loss: 3.2645\n",
      "Epoch 11/30\n",
      "\u001b[1m307/307\u001b[0m \u001b[32m━━━━━━━━━━━━━━━━━━━━\u001b[0m\u001b[37m\u001b[0m \u001b[1m10s\u001b[0m 33ms/step - Loan_approved_accuracy: 0.9178 - Loan_approved_loss: 0.1932 - Risk_score_loss: 3.1093 - Risk_score_mae: 3.1093 - loss: 3.3025 - val_Loan_approved_accuracy: 0.9362 - val_Loan_approved_loss: 0.1599 - val_Risk_score_loss: 3.0868 - val_Risk_score_mae: 3.0838 - val_loss: 3.2432\n",
      "Epoch 12/30\n",
      "\u001b[1m307/307\u001b[0m \u001b[32m━━━━━━━━━━━━━━━━━━━━\u001b[0m\u001b[37m\u001b[0m \u001b[1m10s\u001b[0m 33ms/step - Loan_approved_accuracy: 0.9196 - Loan_approved_loss: 0.1873 - Risk_score_loss: 3.0780 - Risk_score_mae: 3.0779 - loss: 3.2652 - val_Loan_approved_accuracy: 0.9405 - val_Loan_approved_loss: 0.1584 - val_Risk_score_loss: 2.9914 - val_Risk_score_mae: 2.9905 - val_loss: 3.1484\n",
      "Epoch 13/30\n",
      "\u001b[1m307/307\u001b[0m \u001b[32m━━━━━━━━━━━━━━━━━━━━\u001b[0m\u001b[37m\u001b[0m \u001b[1m10s\u001b[0m 33ms/step - Loan_approved_accuracy: 0.9182 - Loan_approved_loss: 0.1862 - Risk_score_loss: 3.0978 - Risk_score_mae: 3.0978 - loss: 3.2839 - val_Loan_approved_accuracy: 0.9364 - val_Loan_approved_loss: 0.1547 - val_Risk_score_loss: 2.9701 - val_Risk_score_mae: 2.9682 - val_loss: 3.1223\n",
      "<keras.src.callbacks.history.History object at 0x289427880>\n"
     ]
    }
   ],
   "source": [
    "# =====================\n",
    "# 9. Train Model\n",
    "# =====================\n",
    "\n",
    "early_stop = EarlyStopping(monitor='val_loss', patience=5, restore_best_weights=True)\n",
    "\n",
    "history = model.fit(\n",
    "    X_train, y_train,\n",
    "    validation_split=0.3,\n",
    "    epochs=30,\n",
    "    callbacks=[early_stop]\n",
    ")\n",
    "print(history)"
   ]
  },
  {
   "cell_type": "code",
   "execution_count": 10,
   "id": "15212248-0962-495a-a200-baaad49115fd",
   "metadata": {},
   "outputs": [
    {
     "name": "stdout",
     "output_type": "stream",
     "text": [
      "\u001b[1m188/188\u001b[0m \u001b[32m━━━━━━━━━━━━━━━━━━━━\u001b[0m\u001b[37m\u001b[0m \u001b[1m2s\u001b[0m 12ms/step - Loan_approved_accuracy: 0.9333 - Loan_approved_loss: 0.1575 - Risk_score_loss: 2.8153 - Risk_score_mae: 2.8153 - loss: 2.9728\n",
      "[3.0520827770233154, 0.15637801587581635, 2.895693302154541, 0.9381666779518127, 2.8955435752868652]\n"
     ]
    }
   ],
   "source": [
    "# =====================\n",
    "# 10. Evaluate on Test Data\n",
    "# =====================\n",
    "test_scores = model.evaluate(X_test, y_test)\n",
    "print(test_scores)"
   ]
  },
  {
   "cell_type": "code",
   "execution_count": 20,
   "id": "192f127f-3e7a-4698-bdd9-769ad096cab5",
   "metadata": {
    "scrolled": true
   },
   "outputs": [
    {
     "name": "stdout",
     "output_type": "stream",
     "text": [
      "\u001b[1m188/188\u001b[0m \u001b[32m━━━━━━━━━━━━━━━━━━━━\u001b[0m\u001b[37m\u001b[0m \u001b[1m0s\u001b[0m 2ms/step\n",
      "              precision    recall  f1-score   support\n",
      "\n",
      "           0       0.94      0.99      0.96      4566\n",
      "           1       0.94      0.79      0.86      1434\n",
      "\n",
      "    accuracy                           0.94      6000\n",
      "   macro avg       0.94      0.89      0.91      6000\n",
      "weighted avg       0.94      0.94      0.94      6000\n",
      "\n"
     ]
    },
    {
     "data": {
      "image/png": "[encoded data removed]",
      "text/plain": [
       "<Figure size 640x480 with 2 Axes>"
      ]
     },
     "metadata": {},
     "output_type": "display_data"
    }
   ],
   "source": [
    "# =====================\n",
    "# 11. Classification report and visualization on Test Data\n",
    "# =====================\n",
    "\n",
    "y_test_pred=model.predict(X_test)\n",
    "y_test_pred=(y_test_pred[0]>=0.5).astype('int')\n",
    "print(classification_report(y_test['Loan_approved'],y_test_pred))\n",
    "\n",
    "cm=confusion_matrix(y_test['Loan_approved'],y_test_pred)\n",
    "disp=ConfusionMatrixDisplay(confusion_matrix=cm,display_labels=['Loan not approved(0)','Loan approved(1)']).plot(cmap='Blues')\n",
    "plt.title(\"Confusion Matrix (test set) - ANN\")\n",
    "plt.show()"
   ]
  },
  {
   "cell_type": "code",
   "execution_count": null,
   "id": "0f826f58-d905-48c5-a52f-1d84440c38a9",
   "metadata": {},
   "outputs": [],
   "source": [
    "🔹 Final Evaluation Summary:\n",
    "1. The ANN model performed very well on the loan approval task. It correctly identified most of the rejected \n",
    "loan cases (class 0) with high recall (99%), which helps reduce financial risk. However, it missed some of \n",
    "the approved cases (class 1), with a recall of 79%, which is understandable in sensitive domains where false \n",
    "approvals can be risky.\n",
    "2. For the second task — predicting risk score — the model achieved a low Mean Absolute Error (around 2.8 to 3.1), \n",
    "which shows it was quite accurate in estimating risk values.\n",
    "\n",
    "    \n",
    "🔹 Model Training Highlights\n",
    "1. EarlyStopping was used to prevent overfitting.\n",
    "2. The model trained for about 13 epochs, with best validation performance near epoch 12.\n",
    "3. Validation accuracy ranged between 91% to 94%.\n",
    "4. Risk score MAE on validation: around 3.0\n",
    "    \n",
    "🔹 Test Set Results\n",
    "1. Overall Accuracy: 94%\n",
    "2. Confusion Matrix: clearly shows strong performance on class 0.\n",
    "3. Classification Report:\n",
    "4. Class 0 (Loan Not Approved): Precision 94%, Recall 99%\n",
    "5. Class 1 (Loan Approved): Precision 94%, Recall 79%\n",
    "\n",
    "🔹 Final Thoughts\n",
    "The neural network handled both classification and regression tasks effectively. While some approved cases were \n",
    "missed, the model prioritized minimizing risk, which is a valid tradeoff. The use of deep learning was appropriate \n",
    "and provided better performance than what is typically expected from simpler models."
   ]
  }
 ],
 "metadata": {
  "kernelspec": {
   "display_name": "Python 3 (ipykernel)",
   "language": "python",
   "name": "python3"
  },
  "language_info": {
   "codemirror_mode": {
    "name": "ipython",
    "version": 3
   },
   "file_extension": ".py",
   "mimetype": "text/x-python",
   "name": "python",
   "nbconvert_exporter": "python",
   "pygments_lexer": "ipython3",
   "version": "3.10.11"
  }
 },
 "nbformat": 4,
 "nbformat_minor": 5
}
